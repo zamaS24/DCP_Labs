{
 "cells": [
  {
   "cell_type": "markdown",
   "metadata": {},
   "source": [
    "# LAB3: Applying norms and distances with signals "
   ]
  },
  {
   "cell_type": "code",
   "execution_count": 5,
   "metadata": {},
   "outputs": [],
   "source": [
    "import numpy as np \n"
   ]
  },
  {
   "cell_type": "markdown",
   "metadata": {},
   "source": [
    "## 1.1 generating two signals "
   ]
  },
  {
   "cell_type": "code",
   "execution_count": 6,
   "metadata": {},
   "outputs": [],
   "source": [
    "x = np.random.randn(10)\n",
    "y = np.random.randn(10)"
   ]
  },
  {
   "cell_type": "code",
   "execution_count": 9,
   "metadata": {},
   "outputs": [
    {
     "data": {
      "text/plain": [
       "0.17409480608864103"
      ]
     },
     "execution_count": 9,
     "metadata": {},
     "output_type": "execute_result"
    }
   ],
   "source": [
    "np.mean(x)"
   ]
  },
  {
   "cell_type": "code",
   "execution_count": 11,
   "metadata": {},
   "outputs": [
    {
     "name": "stdout",
     "output_type": "stream",
     "text": [
      "the verio of th eopen c librari yin the amena time :  4.9.0\n"
     ]
    }
   ],
   "source": [
    "\n",
    "import cv2\n",
    "print('the verio of th eopen c librari yin the amena time : ', cv2.__version__)"
   ]
  },
  {
   "cell_type": "markdown",
   "metadata": {},
   "source": [
    "## 1.2 normalizing the signals \n",
    "(centralizing the points to the mean and then diving by the standart deviation )"
   ]
  },
  {
   "cell_type": "code",
   "execution_count": 20,
   "metadata": {},
   "outputs": [],
   "source": [
    "x = (x - np.mean(x)) / np.std(x)\n",
    "y = (y - np.mean(y)) / np.std(y)"
   ]
  },
  {
   "cell_type": "code",
   "execution_count": 23,
   "metadata": {},
   "outputs": [
    {
     "name": "stdout",
     "output_type": "stream",
     "text": [
      "mean of x :  0\n",
      "mean of y : 0\n"
     ]
    }
   ],
   "source": [
    "print('mean of x : ', int(np.mean(x)))\n",
    "print('mean of y :', int(np.mean(y)))"
   ]
  },
  {
   "cell_type": "code",
   "execution_count": 18,
   "metadata": {},
   "outputs": [
    {
     "name": "stdout",
     "output_type": "stream",
     "text": [
      "standard devition atof x 1.0\n",
      " he standared deviion f y  1.0\n"
     ]
    }
   ],
   "source": [
    "print('standard devition atof x',  x.std())\n",
    "print(' he standared deviion f y ', y.std())"
   ]
  },
  {
   "cell_type": "markdown",
   "metadata": {},
   "source": [
    "## 2.1 NORMS "
   ]
  },
  {
   "cell_type": "code",
   "execution_count": 27,
   "metadata": {},
   "outputs": [],
   "source": [
    "def l1(vector:np.ndarray) -> float: \n",
    "    \"calculate the l1 norm of a given array\"\n",
    "    return np.sum(np.abs(vector))\n"
   ]
  },
  {
   "cell_type": "code",
   "execution_count": 29,
   "metadata": {},
   "outputs": [],
   "source": [
    "def l2(vector:np.ndarray) -> float: \n",
    "    \"calculates l2 norm, (euclidian)\"\n",
    "    return np.sqrt(np.sum(vector**2))\n"
   ]
  },
  {
   "cell_type": "code",
   "execution_count": 32,
   "metadata": {},
   "outputs": [],
   "source": [
    "def l_infini(vector:np.ndarray) -> float: \n",
    "    return np.max(np.abs(vector))"
   ]
  },
  {
   "cell_type": "code",
   "execution_count": 53,
   "metadata": {},
   "outputs": [
    {
     "name": "stdout",
     "output_type": "stream",
     "text": [
      "x=  [ 1.05452777 -0.92652799 -0.87325722 -1.25817714  0.52237093 -0.56768946\n",
      "  0.80858613  1.26422551  1.17885683 -1.20291537]\n",
      "*** Differnt norms for x ***\n",
      "l1(x) =  9.65713434122308\n",
      "l2(x) =  3.1622776601683795\n",
      "l_infini(x) =  1.26422550823239\n"
     ]
    }
   ],
   "source": [
    "print('x= ', x)\n",
    "print('*** Differnt norms for x ***')\n",
    "print('l1(x) = ', l1(x))\n",
    "print('l2(x) = ', l2(x))\n",
    "print('l_infini(x) = ', l_infini(x))"
   ]
  },
  {
   "cell_type": "markdown",
   "metadata": {},
   "source": [
    "## 2.2 distances"
   ]
  },
  {
   "cell_type": "code",
   "execution_count": 54,
   "metadata": {},
   "outputs": [],
   "source": [
    "def l1_distance(x:np.ndarray, y:np.ndarray) -> float: \n",
    "    return np.sum(np.absolute(x-y))\n",
    "\n",
    "def l2_distance(x:np.ndarray, y:np.ndarray) -> float: \n",
    "    return np.sqrt(np.sum((x-y)**2))\n",
    "\n",
    "def l_infini_distance(x:np.ndarray, y:np.ndarray) -> float: \n",
    "    return np.max(np.abs(x-y))\n"
   ]
  },
  {
   "cell_type": "code",
   "execution_count": 55,
   "metadata": {},
   "outputs": [
    {
     "name": "stdout",
     "output_type": "stream",
     "text": [
      "***distances between x and y***\n",
      "l1 distance :  10.093166437167172\n",
      "l2 distance :  3.8873419004899974\n",
      "l_infini distance :  2.4047403209172096\n"
     ]
    }
   ],
   "source": [
    "print('***distances between x and y***')\n",
    "print('l1 distance : ', l1_distance(x,y))\n",
    "print('l2 distance : ', l2_distance(x,y))\n",
    "print('l_infini distance : ', l_infini_distance(x,y))"
   ]
  },
  {
   "cell_type": "code",
   "execution_count": null,
   "metadata": {},
   "outputs": [],
   "source": [
    "    "
   ]
  }
 ],
 "metadata": {
  "kernelspec": {
   "display_name": "Python 3",
   "language": "python",
   "name": "python3"
  },
  "language_info": {
   "codemirror_mode": {
    "name": "ipython",
    "version": 3
   },
   "file_extension": ".py",
   "mimetype": "text/x-python",
   "name": "python",
   "nbconvert_exporter": "python",
   "pygments_lexer": "ipython3",
   "version": "3.10.7"
  }
 },
 "nbformat": 4,
 "nbformat_minor": 2
}
